{
 "cells": [
  {
   "cell_type": "markdown",
   "metadata": {},
   "source": [
    "\n",
    "Lab 05\n",
    "Mix & Match Calculator\n",
    "\n",
    "Create Lists for [Item, Quantity, Price] with 10 random values of your choice.\n",
    "The item list can be of any category of your choice [Food Items, Grocery Items,...] or anything you choose that can be bought.\n",
    "\n",
    "Prepare a CSV file with combinations of these values with the help of random index & looping statements and other control structures we discussed in class.\n",
    "\n",
    "To get a random index or number to access items from the list, you can use the following:\n",
    "random is a library in Python that can be used to generate random numbers.\n",
    "\n",
    "import random # Importing the external library\n",
    "r1 = random.randint(0, 10) # Generating the random number from the range and store it in r1 variable\n",
    "\n",
    "More details of the Random library usage can be found here.\n",
    "\n",
    "Your CSV file should have a minimum of 100 rows created randomly with the data in the list and the random library.\n",
    "Each row in the CSV file will have (item, Quantity, and UnitPrice).\n",
    "\n",
    "After preparing the CSV with Python code, you need to compute\n",
    "The total cost for each row, display the result from the first 5 rows and the last 10 rows\n",
    "Calculate the total cost for each unique item in the dataset.\n",
    "Item Name | Total Quantity | Total\n",
    "Print the minimum & maximum price for each item sold"
   ]
  },
  {
   "cell_type": "code",
   "execution_count": 17,
   "metadata": {},
   "outputs": [],
   "source": [
    "import random\n",
    "list_items = [\"Apple\", \"Guava\", \"Banana\", \"Milk\", \"Bread\", \"Kiwi\", \"Cheese\", \"Onion\", \"Coffee\", \"Tea\"]\n",
    "list_quantities = [random.randint(1, 10) for _ in range(10)]\n",
    "list_prices = [round(random.uniform(1, 10), 2) for _ in range(10)]\n"
   ]
  },
  {
   "cell_type": "code",
   "execution_count": 18,
   "metadata": {},
   "outputs": [],
   "source": [
    "\n",
    "with open('Arshika_23122009.csv', 'w') as file:\n",
    "    file.write(\"Item,Quantity,Price\\n\")\n",
    "    \n",
    "    for _ in range(100):\n",
    "        index = random.randint(0, 9)\n",
    "        item = list_items[index]\n",
    "        quantity = list_quantities[index]\n",
    "        price = list_prices[index]\n",
    "        file.write(f\"{item},{quantity},{price}\\n\")\n"
   ]
  },
  {
   "cell_type": "code",
   "execution_count": 19,
   "metadata": {},
   "outputs": [
    {
     "name": "stdout",
     "output_type": "stream",
     "text": [
      "Total cost for the first 5 rows:\n",
      "Row 1: 60.06\n",
      "Row 2: 60.06\n",
      "Row 3: 60.06\n",
      "Row 4: 21.48\n",
      "Row 5: 62.73\n",
      "\n",
      "Total cost for the last 10 rows:\n",
      "Row 91: 6.54\n",
      "Row 92: 28.17\n",
      "Row 93: 60.06\n",
      "Row 94: 38.57\n",
      "Row 95: 6.54\n",
      "Row 96: 31.20\n",
      "Row 97: 62.73\n",
      "Row 98: 21.48\n",
      "Row 99: 38.57\n",
      "Row 100: 33.30\n"
     ]
    }
   ],
   "source": [
    "\n",
    "total_costs = []\n",
    "\n",
    "with open('Arshika_23122009.csv', 'r') as file:\n",
    "    next(file) \n",
    "    for line in file:\n",
    "        item, quantity, price = line.strip().split(',')\n",
    "        total_cost = float(quantity) * float(price)\n",
    "        total_costs.append(total_cost)\n",
    "\n",
    "print(\"Total cost for the first 5 rows:\")\n",
    "for i in range(5):\n",
    "    print(f\"Row {i + 1}: {total_costs[i]:.2f}\")\n",
    "\n",
    "print(\"\\nTotal cost for the last 10 rows:\")\n",
    "for i in range(-10, 0):\n",
    "    print(f\"Row {100 + i + 1}: {total_costs[i]:.2f}\")\n"
   ]
  },
  {
   "cell_type": "code",
   "execution_count": 20,
   "metadata": {},
   "outputs": [
    {
     "name": "stdout",
     "output_type": "stream",
     "text": [
      "\n",
      "Item Name | Total Quantity | Total\n",
      "Onion | 7 | 600.60\n",
      "Banana | 6 | 257.76\n",
      "Cheese | 9 | 627.30\n",
      "Coffee | 7 | 347.13\n",
      "Apple | 3 | 338.04\n",
      "Bread | 10 | 233.10\n",
      "Guava | 4 | 129.36\n",
      "Tea | 8 | 218.40\n",
      "Kiwi | 5 | 248.15\n",
      "Milk | 3 | 98.10\n"
     ]
    }
   ],
   "source": [
    "\n",
    "item_totals = {}\n",
    "\n",
    "with open('Arshika_23122009.csv', 'r') as file:\n",
    "    next(file)  \n",
    "    for line in file:\n",
    "        item, quantity, price = line.strip().split(',')\n",
    "        total_cost = float(quantity) * float(price)\n",
    "        if item in item_totals:\n",
    "            item_totals[item] += total_cost\n",
    "        else:\n",
    "            item_totals[item] = total_cost\n",
    "\n",
    "print(\"\\nItem Name | Total Quantity | Total\")\n",
    "for item, total_cost in item_totals.items():\n",
    "    total_quantity = sum(list_quantities[i] for i in range(10) if list_items[i] == item)\n",
    "    print(f\"{item} | {total_quantity} | {total_cost:.2f}\")\n"
   ]
  },
  {
   "cell_type": "code",
   "execution_count": 21,
   "metadata": {},
   "outputs": [
    {
     "name": "stdout",
     "output_type": "stream",
     "text": [
      "\n",
      "Minimum and Maximum Price for Each Item Sold:\n",
      "Apple: Min Price 9.39, Max Price 9.39\n",
      "Guava: Min Price 2.94, Max Price 2.94\n",
      "Banana: Min Price 3.58, Max Price 3.58\n",
      "Milk: Min Price 2.18, Max Price 2.18\n",
      "Bread: Min Price 3.33, Max Price 3.33\n",
      "Kiwi: Min Price 7.09, Max Price 7.09\n",
      "Cheese: Min Price 6.97, Max Price 6.97\n",
      "Onion: Min Price 8.58, Max Price 8.58\n",
      "Coffee: Min Price 5.51, Max Price 5.51\n",
      "Tea: Min Price 3.90, Max Price 3.90\n"
     ]
    }
   ],
   "source": [
    "\n",
    "print(\"\\nMinimum and Maximum Price for Each Item Sold:\")\n",
    "for item in items:\n",
    "    item_prices = [float(list_prices[i]) for i in range(10) if list_items[i] == item]\n",
    "    if item_prices:\n",
    "        min_price = min(item_prices)\n",
    "        max_price = max(item_prices)\n",
    "        print(f\"{item}: Min Price {min_price:.2f}, Max Price {max_price:.2f}\")\n"
   ]
  },
  {
   "cell_type": "code",
   "execution_count": null,
   "metadata": {},
   "outputs": [],
   "source": []
  }
 ],
 "metadata": {
  "kernelspec": {
   "display_name": "Python 3",
   "language": "python",
   "name": "python3"
  },
  "language_info": {
   "codemirror_mode": {
    "name": "ipython",
    "version": 3
   },
   "file_extension": ".py",
   "mimetype": "text/x-python",
   "name": "python",
   "nbconvert_exporter": "python",
   "pygments_lexer": "ipython3",
   "version": "3.11.2"
  },
  "orig_nbformat": 4
 },
 "nbformat": 4,
 "nbformat_minor": 2
}
