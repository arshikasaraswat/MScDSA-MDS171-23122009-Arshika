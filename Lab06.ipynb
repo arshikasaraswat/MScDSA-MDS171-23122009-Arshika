{
 "cells": [
  {
   "cell_type": "markdown",
   "metadata": {},
   "source": [
    "Lab 06\n",
    "\n",
    "\n",
    "Vowel Counter!\n",
    "\n",
    "Write a program for collecting a string from the user and counting the number of vowels.\n",
    "\n",
    "Print the total count of vowels\n",
    "Print each vowel and its count\n",
    "Calculate the percentage of vowels in the given string\n",
    "Make use of functions and format your output accordingly\n"
   ]
  },
  {
   "cell_type": "code",
   "execution_count": 19,
   "metadata": {},
   "outputs": [
    {
     "name": "stdout",
     "output_type": "stream",
     "text": [
      "Total count of vowels: 3\n",
      "Vowels and their counts:\n",
      "A: 1\n",
      "i: 1\n",
      "a: 1\n",
      "Percentage of vowels in the string: 42.86%\n"
     ]
    }
   ],
   "source": [
    "def count_vowels(input_string):\n",
    "    vowels = \"AEIOUaeiou\"\n",
    "    vowel_count = {}\n",
    "    total_vowels = 0\n",
    "\n",
    "    for char in input_string:\n",
    "        if char in vowels:\n",
    "            if char in vowel_count:\n",
    "                vowel_count[char] += 1\n",
    "            else:\n",
    "                vowel_count[char] = 1\n",
    "            total_vowels += 1\n",
    "\n",
    "    return total_vowels, vowel_count\n",
    "\n",
    "def calculate_percentage(total_vowels, total_characters):\n",
    "    if total_characters == 0:\n",
    "        return 0\n",
    "    return (total_vowels / total_characters) * 100\n",
    "\n",
    "def main():\n",
    "    user_input = input(\"Enter a string: \")\n",
    "    total_characters = len(user_input)\n",
    "    total_vowels, vowel_count = count_vowels(user_input)\n",
    "\n",
    "    print(\"Total count of vowels:\", total_vowels)\n",
    "\n",
    "    print(\"Vowels and their counts:\")\n",
    "    for vowel, count in vowel_count.items():\n",
    "        print(f\"{vowel}: {count}\")\n",
    "\n",
    "    vowel_percentage = calculate_percentage(total_vowels, total_characters)\n",
    "    print(f\"Percentage of vowels in the string: {vowel_percentage:.2f}%\")\n",
    "\n",
    "if __name__ == \"__main__\":\n",
    "    main()\n"
   ]
  },
  {
   "cell_type": "code",
   "execution_count": null,
   "metadata": {},
   "outputs": [],
   "source": []
  }
 ],
 "metadata": {
  "kernelspec": {
   "display_name": "Python 3",
   "language": "python",
   "name": "python3"
  },
  "language_info": {
   "codemirror_mode": {
    "name": "ipython",
    "version": 3
   },
   "file_extension": ".py",
   "mimetype": "text/x-python",
   "name": "python",
   "nbconvert_exporter": "python",
   "pygments_lexer": "ipython3",
   "version": "3.11.2"
  },
  "orig_nbformat": 4
 },
 "nbformat": 4,
 "nbformat_minor": 2
}
