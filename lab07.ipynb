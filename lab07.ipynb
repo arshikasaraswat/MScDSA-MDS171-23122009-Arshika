{
 "cells": [
  {
   "cell_type": "code",
   "execution_count": 1,
   "metadata": {},
   "outputs": [],
   "source": [
    "import random\n",
    "\n",
    "menu = [\n",
    "    [\"Poha\", 30],\n",
    "    [\"Tea\", 10],\n",
    "    [\"Coffee\", 15],\n",
    "    [\"Fries\", 50],\n",
    "    [\"Sandwich\", 80],\n",
    "]\n",
    "\n",
    "neworderList={ }\n",
    "\n",
    "def unique_order_id():\n",
    "    order_id = ''.join([str(random.randint(0, 9)) for _ in range(5)])\n",
    "    return int(order_id)\n",
    "\n",
    "def create_new_order():\n",
    "    \n",
    "    order_id = unique_order_id()\n",
    "    order = []\n",
    "    while True:\n",
    "        print(\"\\nMenu:\")\n",
    "        for i, item in enumerate(menu, start=1):\n",
    "            print(f\"{i}. {item[0]} - {item[1]}\")\n",
    "        \n",
    "        item_number = int(input(\"Enter the item number (0 to finish order): \"))\n",
    "        \n",
    "        if item_number == 0:\n",
    "            break\n",
    "\n"
   ]
  }
 ],
 "metadata": {
  "kernelspec": {
   "display_name": "Python 3",
   "language": "python",
   "name": "python3"
  },
  "language_info": {
   "codemirror_mode": {
    "name": "ipython",
    "version": 3
   },
   "file_extension": ".py",
   "mimetype": "text/x-python",
   "name": "python",
   "nbconvert_exporter": "python",
   "pygments_lexer": "ipython3",
   "version": "3.11.2"
  },
  "orig_nbformat": 4
 },
 "nbformat": 4,
 "nbformat_minor": 2
}
