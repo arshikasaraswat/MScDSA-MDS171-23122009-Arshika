{
 "cells": [
  {
   "cell_type": "code",
   "execution_count": 1,
   "metadata": {},
   "outputs": [],
   "source": [
    "namelist=[]\n",
    "def namef():\n",
    "    list_length=100\n",
    "    for i in range(list_length):\n",
    "        name=input(\"Enter your name:\")\n",
    "        if (name==\"q\"):\n",
    "            print(namelist)\n",
    "        if name in namelist:\n",
    "            print(\"Name Exist\")\n",
    "            break\n",
    "        namelist.append(name)"
   ]
  },
  {
   "cell_type": "code",
   "execution_count": 2,
   "metadata": {},
   "outputs": [
    {
     "name": "stdout",
     "output_type": "stream",
     "text": [
      "['Manish', 'Arshika', 'Shubham']\n",
      "Name Exist\n"
     ]
    }
   ],
   "source": [
    "namef()"
   ]
  },
  {
   "cell_type": "code",
   "execution_count": null,
   "metadata": {},
   "outputs": [],
   "source": []
  }
 ],
 "metadata": {
  "kernelspec": {
   "display_name": "Python 3",
   "language": "python",
   "name": "python3"
  },
  "language_info": {
   "codemirror_mode": {
    "name": "ipython",
    "version": 3
   },
   "file_extension": ".py",
   "mimetype": "text/x-python",
   "name": "python",
   "nbconvert_exporter": "python",
   "pygments_lexer": "ipython3",
   "version": "3.11.2"
  },
  "orig_nbformat": 4
 },
 "nbformat": 4,
 "nbformat_minor": 2
}
