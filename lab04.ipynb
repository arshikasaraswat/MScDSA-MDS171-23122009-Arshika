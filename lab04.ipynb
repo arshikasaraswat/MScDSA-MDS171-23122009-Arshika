{
 "cells": [
  {
   "cell_type": "markdown",
   "metadata": {},
   "source": [
    "Lab 04\n",
    "A Taste of Success: The Restaurant Management System\n",
    "\n",
    "In the heart of the bustling city of Lavasa was a charming little restaurant named \"Culinary Delights.\" Owned by a passionate chef named Chef Amelia, Culinary Delights was renowned for its mouthwatering dishes, warm ambience, and exceptional customer service.\n",
    "\n",
    "Chef Amelia had always dreamed of running her restaurant since she was a child. Her love for cooking led her to culinary school, where she honed her skills and developed her signature recipes. With hard work and determination, she finally opened Culinary Delights, a cosy place where people could savour her culinary creations.\n",
    "\n",
    "As Culinary Delights gained popularity, it faced a significant challenge – managing orders efficiently. Chef Amelia realised that she needed a robust Restaurant Management System (RMS) to maintain the restaurant's reputation.\n",
    "\n",
    "Chef Amelia would like to hire you as a team lead for the talented software developers Mark, Sarah, and David she already has. Together, you will create an advanced RMS that will revolutionise Culinary Delights.\n",
    "\n",
    "The software Chef Amelia is looking for is straightforward and has to store the orders in a file the restaurant gets from its customers.\n",
    "\n",
    "As a data analyst specialist, gather insights from the orders that Your hotel Culinary Delights received from their customer over time and display it to Chef Amelia as she uses your Software Application."
   ]
  },
  {
   "cell_type": "code",
   "execution_count": 1,
   "metadata": {},
   "outputs": [
    {
     "name": "stdout",
     "output_type": "stream",
     "text": [
      "Thank you for visiting Culinary Delights!!!\n",
      "******************************\n",
      "Dish name\t:\tBurger\n",
      "\n",
      "Price of the dish\t:\t500\n",
      "\n",
      "Quantity of the dish\t:\t2\n",
      "\n",
      "Total Amount\t:\t500\n",
      "\n",
      "Name of the customer\t:\tArshika\n",
      "\n",
      "Phone number\t:\t86655567864\n",
      "******************************\n"
     ]
    }
   ],
   "source": [
    "def writeadvncRms(dish,price,quantity,total,name,phone):\n",
    "    fileadvncRms = open(\"lab04.txt\",\"a+\")\n",
    "    fileadvncRms.write(\"Dish name\\t:\\t\"+dish)\n",
    "    fileadvncRms.write(\"\\nPrice of the dish\\t:\\t\"+price)\n",
    "    fileadvncRms.write(\"\\nQuantity of the dish\\t:\\t\"+quantity)\n",
    "    fileadvncRms.write(\"\\nTotal Amount\\t:\\t\"+total)\n",
    "    fileadvncRms.write(\"\\nName of the customer\\t:\\t\"+name)\n",
    "    fileadvncRms.write(\"\\nPhone number\\t:\\t\"+phone)\n",
    "    fileadvncRms.close()\n",
    "    return True\n",
    "\n",
    "dish = input(\"Enter the dish ordered: \")\n",
    "price = input(\"Price of the dish is: \")\n",
    "quantity = input(\"Quantity of that dish ordered: \")\n",
    "total = input(\"Total amount of the customer: \")\n",
    "name = input(\"Enter the name of the customer: \")\n",
    "phone = input(\"Enter the phone number of the customer: \")\n",
    "rmss =  writeadvncRms(dish,price,quantity,total,name,phone,)\n",
    "\n",
    "if rmss:\n",
    "    print(\"Thank you for visiting Culinary Delights!!!\")\n",
    "    print(\"*\"*30)\n",
    "    for line in open(\"lab04.txt\",\"r+\").readlines():\n",
    "        print(line)\n",
    "    print(\"*\"*30)\n",
    "else:\n",
    "    print(\"Some error occured\")"
   ]
  }
 ],
 "metadata": {
  "kernelspec": {
   "display_name": "Python 3",
   "language": "python",
   "name": "python3"
  },
  "language_info": {
   "codemirror_mode": {
    "name": "ipython",
    "version": 3
   },
   "file_extension": ".py",
   "mimetype": "text/x-python",
   "name": "python",
   "nbconvert_exporter": "python",
   "pygments_lexer": "ipython3",
   "version": "3.11.2"
  },
  "orig_nbformat": 4
 },
 "nbformat": 4,
 "nbformat_minor": 2
}
